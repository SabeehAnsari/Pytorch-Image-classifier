{
  "cells": [
    {
      "cell_type": "markdown",
      "metadata": {
        "id": "view-in-github",
        "colab_type": "text"
      },
      "source": [
        "<a href=\"https://colab.research.google.com/github/SabeehAnsari/Pytorch-Image-classifier/blob/main/V1.ipynb\" target=\"_parent\"><img src=\"https://colab.research.google.com/assets/colab-badge.svg\" alt=\"Open In Colab\"/></a>"
      ]
    },
    {
      "cell_type": "code",
      "execution_count": 29,
      "metadata": {
        "id": "e78bMiqUrt1S"
      },
      "outputs": [],
      "source": [
        "import numpy as np\n",
        "from PIL import Image\n",
        "\n",
        "import torch\n",
        "import torch.nn as nn\n",
        "import torch.nn.functional as F\n",
        "import torch.optim as optim\n",
        "\n",
        "import torchvision\n",
        "import torchvision.transforms as transforms"
      ]
    },
    {
      "cell_type": "code",
      "execution_count": 30,
      "metadata": {
        "id": "8f79d60c"
      },
      "outputs": [],
      "source": [
        "import numpy as np\n",
        "from PIL import Image\n",
        "\n",
        "import torch\n",
        "import torch.nn as nn\n",
        "import torch.nn.functional as F\n",
        "import torch.optim as optim\n",
        "\n",
        "import torchvision\n",
        "import torchvision.transforms as transforms\n",
        "from torch.utils.data import DataLoader\n",
        "from torchvision import datasets, transforms"
      ]
    },
    {
      "cell_type": "code",
      "execution_count": 31,
      "metadata": {
        "id": "js7PeO5fsYX2"
      },
      "outputs": [],
      "source": [
        "transform = transforms.Compose(\n",
        "    [transforms.ToTensor(),\n",
        "     transforms.Normalize((0.5, 0.5, 0.5), (0.5, 0.5, 0.5))\n",
        "])"
      ]
    },
    {
      "cell_type": "code",
      "execution_count": 32,
      "metadata": {
        "id": "9tHS9QWCsgmi"
      },
      "outputs": [],
      "source": [
        "train_data = torchvision.datasets.CIFAR10(root='./data', train=True, download=True, transform=transform)\n",
        "test_data = torchvision.datasets.CIFAR10(root='./data', train=False, download=True, transform=transform)\n",
        "\n",
        "train_loader = torch.utils.data.DataLoader(train_data, batch_size=32, shuffle=True, num_workers=2)\n",
        "test_loader = torch.utils.data.DataLoader(test_data, batch_size=32, shuffle=False, num_workers=2)"
      ]
    },
    {
      "cell_type": "code",
      "execution_count": 33,
      "metadata": {
        "id": "fy_P4iUptytq"
      },
      "outputs": [],
      "source": [
        "image, label = train_data[0]"
      ]
    },
    {
      "cell_type": "code",
      "execution_count": 34,
      "metadata": {
        "id": "N5aK9AI0uJ2M",
        "colab": {
          "base_uri": "https://localhost:8080/"
        },
        "outputId": "f27abd31-5dcb-40ca-9274-dc13f45ccd33"
      },
      "outputs": [
        {
          "output_type": "execute_result",
          "data": {
            "text/plain": [
              "torch.Size([3, 32, 32])"
            ]
          },
          "metadata": {},
          "execution_count": 34
        }
      ],
      "source": [
        "image.size()"
      ]
    },
    {
      "cell_type": "code",
      "execution_count": 35,
      "metadata": {
        "id": "X8usAr1XuM7I"
      },
      "outputs": [],
      "source": [
        "class_names = ['plane', 'car', 'bird', 'cat', 'deer', 'dog', 'frog', 'horse', 'ship', 'truck']"
      ]
    },
    {
      "cell_type": "code",
      "execution_count": 36,
      "metadata": {
        "id": "g7T1jMh7uhRy"
      },
      "outputs": [],
      "source": [
        "class NeuralNet(nn.Module):\n",
        "\n",
        "  def __init__(self):\n",
        "    super().__init__()\n",
        "\n",
        "    self.conv1 = nn.Conv2d(3,12,5)  # (12,28,28)\n",
        "    self.pool = nn.MaxPool2d(2,2)  # (12,14,14)\n",
        "    self.conv2 = nn.Conv2d(12,24,5)\n",
        "    self.fc1 = nn.Linear(24*5*5, 120)\n",
        "    self.fc2 = nn.Linear(120,84)\n",
        "    self.fc3 = nn.Linear(84,10)\n",
        "\n",
        "  def forward(self, x):\n",
        "    x = self.pool(F.relu(self.conv1(x)))\n",
        "    x = self.pool(F.relu(self.conv2(x)))\n",
        "    x = torch.flatten(x,1)\n",
        "    x = F.relu(self.fc1(x))\n",
        "    x = F.relu(self.fc2(x))\n",
        "    x = self.fc3(x)\n",
        "    return x"
      ]
    },
    {
      "cell_type": "code",
      "execution_count": 37,
      "metadata": {
        "id": "RdW21OG6wavb"
      },
      "outputs": [],
      "source": [
        "net = NeuralNet()\n",
        "loss_function = nn.CrossEntropyLoss()\n",
        "optimizer = optim.SGD(net.parameters(), lr=0.001, momentum=0.9)"
      ]
    },
    {
      "cell_type": "code",
      "execution_count": 10,
      "metadata": {
        "id": "PIEyJboN09yK",
        "outputId": "1fe1eb6d-8b39-41fe-bc50-f6c71cd3e84d",
        "colab": {
          "base_uri": "https://localhost:8080/"
        }
      },
      "outputs": [
        {
          "output_type": "stream",
          "name": "stdout",
          "text": [
            "Loss: 1.0441\n",
            "Training epoch 9...\n",
            "Loss: 0.9980\n",
            "Training epoch 10...\n",
            "Loss: 0.9625\n",
            "Training epoch 11...\n",
            "Loss: 0.9239\n",
            "Training epoch 12...\n",
            "Loss: 0.8925\n",
            "Training epoch 13...\n",
            "Loss: 0.8676\n",
            "Training epoch 14...\n",
            "Loss: 0.8296\n",
            "Training epoch 15...\n",
            "Loss: 0.8040\n",
            "Training epoch 16...\n",
            "Loss: 0.7738\n",
            "Training epoch 17...\n",
            "Loss: 0.7489\n",
            "Training epoch 18...\n",
            "Loss: 0.7201\n",
            "Training epoch 19...\n",
            "Loss: 0.6974\n",
            "Training epoch 20...\n",
            "Loss: 0.6689\n",
            "Training epoch 21...\n",
            "Loss: 0.6471\n",
            "Training epoch 22...\n",
            "Loss: 0.6225\n",
            "Training epoch 23...\n",
            "Loss: 0.6009\n",
            "Training epoch 24...\n",
            "Loss: 0.5787\n",
            "Training epoch 25...\n",
            "Loss: 0.5592\n",
            "Training epoch 26...\n",
            "Loss: 0.5345\n",
            "Training epoch 27...\n",
            "Loss: 0.5157\n",
            "Training epoch 28...\n",
            "Loss: 0.4962\n",
            "Training epoch 29...\n",
            "Loss: 0.4750\n"
          ]
        }
      ],
      "source": [
        "for epoch in range(30):\n",
        "    print(f'Training epoch {epoch}...')\n",
        "\n",
        "    running_loss = 0.0\n",
        "\n",
        "    for i, data in enumerate(train_loader):\n",
        "        inputs, labels = data\n",
        "\n",
        "        optimizer.zero_grad()\n",
        "\n",
        "        outputs = net(inputs)\n",
        "\n",
        "        loss = loss_function(outputs, labels)\n",
        "        loss.backward()\n",
        "        optimizer.step()\n",
        "\n",
        "        running_loss += loss.item()\n",
        "\n",
        "    print(f'Loss: {running_loss / len(train_loader):.4f}')\n"
      ]
    },
    {
      "cell_type": "code",
      "execution_count": 38,
      "metadata": {
        "id": "uiY1yVsf6oCm"
      },
      "outputs": [],
      "source": [
        "torch.save(net.state_dict(), 'trained_net.pth')"
      ]
    },
    {
      "cell_type": "code",
      "execution_count": 39,
      "metadata": {
        "id": "WM3j_i-j7fIU",
        "colab": {
          "base_uri": "https://localhost:8080/"
        },
        "outputId": "ad950ba8-a72b-464b-f4e3-2794ae287f22"
      },
      "outputs": [
        {
          "output_type": "execute_result",
          "data": {
            "text/plain": [
              "<All keys matched successfully>"
            ]
          },
          "metadata": {},
          "execution_count": 39
        }
      ],
      "source": [
        "net = NeuralNet()\n",
        "net.load_state_dict(torch.load('trained_net.pth'))"
      ]
    },
    {
      "cell_type": "code",
      "execution_count": 42,
      "metadata": {
        "id": "RN9nYp1s7wY-",
        "colab": {
          "base_uri": "https://localhost:8080/"
        },
        "outputId": "5e946f91-a1cb-4e5a-f016-55708fe1743d"
      },
      "outputs": [
        {
          "output_type": "stream",
          "name": "stdout",
          "text": [
            "Accuracy: 9.98%\n"
          ]
        }
      ],
      "source": [
        "correct = 0\n",
        "total = 0\n",
        "\n",
        "net.eval()\n",
        "\n",
        "with torch.no_grad():\n",
        "    for data in test_loader:\n",
        "        images, labels = data\n",
        "        outputs = net(images)\n",
        "        _, predicted = torch.max(outputs, 1)\n",
        "        total += labels.size(0)\n",
        "        correct += (predicted == labels).sum().item()\n",
        "\n",
        "accuracy = 100 * correct / total\n",
        "print(f'Accuracy: {accuracy}%')"
      ]
    },
    {
      "cell_type": "code",
      "execution_count": 41,
      "metadata": {
        "id": "xkA3dKJrFhsh",
        "colab": {
          "base_uri": "https://localhost:8080/"
        },
        "outputId": "08f1c66f-f7d3-47b5-e847-05917027c8ae"
      },
      "outputs": [
        {
          "output_type": "stream",
          "name": "stdout",
          "text": [
            "Prediction: cat\n"
          ]
        }
      ],
      "source": [
        "from PIL import Image\n",
        "import torch\n",
        "import torchvision.transforms as transforms\n",
        "\n",
        "# Define the transformation steps for the input image\n",
        "new_transform = transforms.Compose([\n",
        "    transforms.Resize((32, 32)),  # Resize the image to match the input size for CIFAR10\n",
        "    transforms.ToTensor(),  # Convert image to tensor\n",
        "    transforms.Normalize((0.5, 0.5, 0.5), (0.5, 0.5, 0.5))  # Normalize the image\n",
        "])\n",
        "\n",
        "# Function to load and preprocess an image\n",
        "def load_image(image_path):\n",
        "    # Open the image\n",
        "    image = Image.open(image_path)\n",
        "    # Apply transformations (resize, convert to tensor, normalize)\n",
        "    image = new_transform(image)\n",
        "    # Add a batch dimension (1 for a single image)\n",
        "    image = image.unsqueeze(0)\n",
        "    return image\n",
        "\n",
        "# Example image paths\n",
        "image_paths = ['Airplane.jpg']\n",
        "\n",
        "# Load and preprocess the images\n",
        "images = [load_image(img) for img in image_paths]\n",
        "\n",
        "# Set the model to evaluation mode\n",
        "net.eval()\n",
        "\n",
        "# Perform inference for each image\n",
        "with torch.no_grad():\n",
        "    for image in images:\n",
        "        # Forward pass through the network\n",
        "        output = net(image)\n",
        "        # Get the predicted class\n",
        "        _, predicted = torch.max(output, 1)\n",
        "        # Print the predicted class name\n",
        "        print(f'Prediction: {class_names[predicted.item()]}')\n"
      ]
    }
  ],
  "metadata": {
    "accelerator": "GPU",
    "colab": {
      "gpuType": "T4",
      "provenance": [],
      "authorship_tag": "ABX9TyNUcpiStPL5ZUgIJ0LcetKS",
      "include_colab_link": true
    },
    "kernelspec": {
      "display_name": "Python 3",
      "name": "python3"
    },
    "language_info": {
      "name": "python"
    }
  },
  "nbformat": 4,
  "nbformat_minor": 0
}