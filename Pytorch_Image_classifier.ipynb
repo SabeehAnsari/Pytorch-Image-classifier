{
  "nbformat": 4,
  "nbformat_minor": 0,
  "metadata": {
    "colab": {
      "provenance": [],
      "gpuType": "T4",
      "authorship_tag": "ABX9TyMLOvMDk/PfRO8E89LJZ9A/",
      "include_colab_link": true
    },
    "kernelspec": {
      "name": "python3",
      "display_name": "Python 3"
    },
    "language_info": {
      "name": "python"
    },
    "accelerator": "GPU"
  },
  "cells": [
    {
      "cell_type": "markdown",
      "metadata": {
        "id": "view-in-github",
        "colab_type": "text"
      },
      "source": [
        "<a href=\"https://colab.research.google.com/github/SabeehAnsari/Pytorch-Image-classifier/blob/main/Pytorch_Image_classifier.ipynb\" target=\"_parent\"><img src=\"https://colab.research.google.com/assets/colab-badge.svg\" alt=\"Open In Colab\"/></a>"
      ]
    },
    {
      "cell_type": "code",
      "execution_count": null,
      "metadata": {
        "id": "e78bMiqUrt1S"
      },
      "outputs": [],
      "source": [
        "import numpy as np\n",
        "from PIL import Image\n",
        "\n",
        "import torch\n",
        "import torch.nn as nn\n",
        "import torch.nn.functional as F\n",
        "import torch.optim as optim\n",
        "\n",
        "import torchvision\n",
        "import torchvision.transforms as transforms"
      ]
    },
    {
      "cell_type": "code",
      "metadata": {
        "id": "8f79d60c"
      },
      "source": [
        "import numpy as np\n",
        "from PIL import Image\n",
        "\n",
        "import torch\n",
        "import torch.nn as nn\n",
        "import torch.nn.functional as F\n",
        "import torch.optim as optim\n",
        "\n",
        "import torchvision\n",
        "import torchvision.transforms as transforms\n",
        "from torch.utils.data import DataLoader\n",
        "from torchvision import datasets, transforms"
      ],
      "execution_count": null,
      "outputs": []
    },
    {
      "cell_type": "code",
      "source": [
        "transform = transforms.Compose(\n",
        "    [transforms.ToTensor(),\n",
        "     transforms.Normalize((0.5, 0.5, 0.5), (0.5, 0.5, 0.5))\n",
        "])"
      ],
      "metadata": {
        "id": "js7PeO5fsYX2"
      },
      "execution_count": null,
      "outputs": []
    },
    {
      "cell_type": "code",
      "source": [
        "train_data = torchvision.datasets.CIFAR10(root='./data', train=True, download=True, transform=transform)\n",
        "test_data = torchvision.datasets.CIFAR10(root='./data', train=False, download=True, transform=transform)\n",
        "\n",
        "train_loader = torch.utils.data.DataLoader(train_data, batch_size=32, shuffle=True, num_workers=2)\n",
        "test_loader = torch.utils.data.DataLoader(test_data, batch_size=32, shuffle=False, num_workers=2)"
      ],
      "metadata": {
        "id": "9tHS9QWCsgmi",
        "colab": {
          "base_uri": "https://localhost:8080/"
        },
        "outputId": "e16d4ce0-d04e-4926-dc59-a2dddb73f223"
      },
      "execution_count": null,
      "outputs": [
        {
          "output_type": "stream",
          "name": "stderr",
          "text": [
            "100%|██████████| 170M/170M [00:06<00:00, 28.2MB/s]\n"
          ]
        }
      ]
    },
    {
      "cell_type": "code",
      "source": [
        "image, label = train_data[0]"
      ],
      "metadata": {
        "id": "fy_P4iUptytq"
      },
      "execution_count": null,
      "outputs": []
    },
    {
      "cell_type": "code",
      "source": [
        "image.size()"
      ],
      "metadata": {
        "colab": {
          "base_uri": "https://localhost:8080/"
        },
        "id": "N5aK9AI0uJ2M",
        "outputId": "f14dbc87-9236-407e-97ac-9314a30b42b4"
      },
      "execution_count": null,
      "outputs": [
        {
          "output_type": "execute_result",
          "data": {
            "text/plain": [
              "torch.Size([3, 32, 32])"
            ]
          },
          "metadata": {},
          "execution_count": 7
        }
      ]
    },
    {
      "cell_type": "code",
      "source": [
        "class_names = ['plane', 'car', 'bird', 'cat', 'deer', 'dog', 'frog', 'horse', 'ship', 'truck']"
      ],
      "metadata": {
        "id": "X8usAr1XuM7I"
      },
      "execution_count": null,
      "outputs": []
    },
    {
      "cell_type": "code",
      "source": [
        "class NeuralNet(nn.Module):\n",
        "\n",
        "  def __init__(self):\n",
        "    super().__init__()\n",
        "\n",
        "    self.conv1 = nn.Conv2d(3,12,5)  # (12,28,28)\n",
        "    self.pool = nn.MaxPool2d(2,2)  # (12,14,14)\n",
        "    self.conv2 = nn.Conv2d(12,24,5)\n",
        "    self.fc1 = nn.Linear(24*5*5, 120)\n",
        "    self.fc2 = nn.Linear(120,84)\n",
        "    self.fc3 = nn.Linear(84,10)\n",
        "\n",
        "  def forward(self, x):\n",
        "    x = self.pool(F.relu(self.conv1(x)))\n",
        "    x = self.pool(F.relu(self.conv2(x)))\n",
        "    x = torch.flatten(x,1)\n",
        "    x = F.relu(self.fc1(x))\n",
        "    x = F.relu(self.fc2(x))\n",
        "    x = self.fc3(x)\n",
        "    return x"
      ],
      "metadata": {
        "id": "g7T1jMh7uhRy"
      },
      "execution_count": null,
      "outputs": []
    },
    {
      "cell_type": "code",
      "source": [
        "net = NeuralNet()\n",
        "loss_function = nn.CrossEntropyLoss()\n",
        "optimizer = optim.SGD(net.parameters(), lr=0.001, momentum=0.9)"
      ],
      "metadata": {
        "id": "RdW21OG6wavb"
      },
      "execution_count": null,
      "outputs": []
    },
    {
      "cell_type": "code",
      "source": [
        "for epoch in range(30):\n",
        "    print(f'Training epoch {epoch}...')\n",
        "\n",
        "    running_loss = 0.0\n",
        "\n",
        "    for i, data in enumerate(train_loader):\n",
        "        inputs, labels = data\n",
        "\n",
        "        optimizer.zero_grad()\n",
        "\n",
        "        outputs = net(inputs)\n",
        "\n",
        "        loss = loss_function(outputs, labels)\n",
        "        loss.backward()\n",
        "        optimizer.step()\n",
        "\n",
        "        running_loss += loss.item()\n",
        "\n",
        "    print(f'Loss: {running_loss / len(train_loader):.4f}')\n"
      ],
      "metadata": {
        "colab": {
          "base_uri": "https://localhost:8080/"
        },
        "id": "PIEyJboN09yK",
        "outputId": "da3afecf-ea37-451b-961f-70125cc04b58"
      },
      "execution_count": null,
      "outputs": [
        {
          "output_type": "stream",
          "name": "stdout",
          "text": [
            "Training epoch 0...\n",
            "Loss: 2.1188\n",
            "Training epoch 1...\n",
            "Loss: 1.7020\n",
            "Training epoch 2...\n",
            "Loss: 1.5052\n",
            "Training epoch 3...\n",
            "Loss: 1.4007\n",
            "Training epoch 4...\n",
            "Loss: 1.3072\n",
            "Training epoch 5...\n",
            "Loss: 1.2284\n",
            "Training epoch 6...\n",
            "Loss: 1.1586\n",
            "Training epoch 7...\n",
            "Loss: 1.0912\n",
            "Training epoch 8...\n",
            "Loss: 1.0333\n",
            "Training epoch 9...\n",
            "Loss: 0.9849\n",
            "Training epoch 10...\n",
            "Loss: 0.9379\n",
            "Training epoch 11...\n",
            "Loss: 0.9011\n",
            "Training epoch 12...\n",
            "Loss: 0.8621\n",
            "Training epoch 13...\n",
            "Loss: 0.8294\n",
            "Training epoch 14...\n",
            "Loss: 0.7946\n",
            "Training epoch 15...\n",
            "Loss: 0.7632\n",
            "Training epoch 16...\n",
            "Loss: 0.7361\n",
            "Training epoch 17...\n",
            "Loss: 0.7090\n",
            "Training epoch 18...\n",
            "Loss: 0.6818\n",
            "Training epoch 19...\n",
            "Loss: 0.6590\n",
            "Training epoch 20...\n",
            "Loss: 0.6322\n",
            "Training epoch 21...\n",
            "Loss: 0.6122\n",
            "Training epoch 22...\n",
            "Loss: 0.5845\n",
            "Training epoch 23...\n",
            "Loss: 0.5689\n",
            "Training epoch 24...\n",
            "Loss: 0.5449\n",
            "Training epoch 25...\n",
            "Loss: 0.5217\n",
            "Training epoch 26...\n",
            "Loss: 0.5031\n",
            "Training epoch 27...\n",
            "Loss: 0.4778\n",
            "Training epoch 28...\n",
            "Loss: 0.4659\n",
            "Training epoch 29...\n",
            "Loss: 0.4420\n"
          ]
        }
      ]
    },
    {
      "cell_type": "code",
      "source": [
        "torch.save(net.state_dict(), 'trained_net.pth')"
      ],
      "metadata": {
        "id": "uiY1yVsf6oCm"
      },
      "execution_count": null,
      "outputs": []
    },
    {
      "cell_type": "code",
      "source": [
        "net = NeuralNet()\n",
        "net.load_state_dict(torch.load('trained_net.pth'))"
      ],
      "metadata": {
        "colab": {
          "base_uri": "https://localhost:8080/"
        },
        "id": "WM3j_i-j7fIU",
        "outputId": "4b0fd2f5-e364-4d63-8af4-369fd14329e9"
      },
      "execution_count": null,
      "outputs": [
        {
          "data": {
            "text/plain": [
              "<All keys matched successfully>"
            ]
          },
          "execution_count": 13,
          "metadata": {},
          "output_type": "execute_result"
        }
      ]
    },
    {
      "cell_type": "code",
      "source": [
        "correct = 0\n",
        "total = 0\n",
        "\n",
        "net.eval()\n",
        "\n",
        "with torch.no_grad():\n",
        "    for data in test_loader:\n",
        "        images, labels = data\n",
        "        outputs = net(images)\n",
        "        _, predicted = torch.max(outputs, 1)\n",
        "        total += labels.size(0)\n",
        "        correct += (predicted == labels).sum().item()\n",
        "\n",
        "accuracy = 100 * correct / total\n",
        "print(f'Accuracy: {accuracy}%')"
      ],
      "metadata": {
        "colab": {
          "base_uri": "https://localhost:8080/"
        },
        "id": "RN9nYp1s7wY-",
        "outputId": "60d3f33c-e92c-49b8-f2c6-885c00d1d70d"
      },
      "execution_count": null,
      "outputs": [
        {
          "output_type": "stream",
          "name": "stdout",
          "text": [
            "Accuracy: 69.7%\n"
          ]
        }
      ]
    }
  ]
}